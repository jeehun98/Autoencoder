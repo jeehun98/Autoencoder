{
  "nbformat": 4,
  "nbformat_minor": 0,
  "metadata": {
    "colab": {
      "provenance": []
    },
    "kernelspec": {
      "name": "python3",
      "display_name": "Python 3"
    },
    "language_info": {
      "name": "python"
    }
  },
  "cells": [
    {
      "cell_type": "code",
      "execution_count": 368,
      "metadata": {
        "id": "I4yL3spRtOeO"
      },
      "outputs": [],
      "source": [
        "import numpy as np"
      ]
    },
    {
      "cell_type": "code",
      "source": [
        "# 데이터셋 생성\n",
        "np.random.seed(4)\n",
        "\n",
        "def generate_3d_data(m, w1=0.1, w2=0.3, noise=0.1):\n",
        "    angles = np.random.rand(m) * 3 * np.pi / 2 - 0.5\n",
        "    data = np.empty((m, 3))\n",
        "    data[:, 0] = np.cos(angles) + np.sin(angles)/2 + noise * np.random.randn(m) / 2\n",
        "    data[:, 1] = np.sin(angles) * 0.7 + noise * np.random.randn(m) / 2\n",
        "    data[:, 2] = data[:, 0] * w1 + data[:, 1] * w2 + noise * np.random.randn(m)\n",
        "    return data\n",
        "\n",
        "X_train = generate_3d_data(60)\n",
        "X_train = X_train - X_train.mean(axis=0, keepdims=0)"
      ],
      "metadata": {
        "id": "iWMVr6j4tooP"
      },
      "execution_count": 369,
      "outputs": []
    },
    {
      "cell_type": "code",
      "source": [
        "# 활성화 함수\n",
        "class activation_function:\n",
        "  # 시그모이드 함수\n",
        "  def sigmoid(self, x):\n",
        "    return 1 / (1+np.e**-x)\n",
        "  \n",
        "  # 시그모이드 함수의 미분 함수\n",
        "  def sigmoid_diff(self, x):  \n",
        "    return self.sigmoid(x) * (1 - self.sigmoid(x))\n",
        "\n",
        "  # 항등 함수\n",
        "  def equal(self, x):\n",
        "    return x\n",
        "\n",
        "  def equal_diff(self, x):\n",
        "    return 1"
      ],
      "metadata": {
        "id": "T8JiqzmSu6CZ"
      },
      "execution_count": 370,
      "outputs": []
    },
    {
      "cell_type": "code",
      "source": [
        "# 비용 함수 클래스, 비용 함수의 종류에 따라 다른 클래스 내 함수를 사용한다.\n",
        "class cost_function:\n",
        "  # 예측값\n",
        "  predict = []\n",
        "  # 타겟값\n",
        "  target = []\n",
        "  # 비용 함수값\n",
        "  error_cost = []\n",
        "\n",
        "  # 오차 제곱합\n",
        "  def errer_squared_sum(self, predict, target):\n",
        "    self.predict = predict\n",
        "    self.target = target\n",
        "\n",
        "    self.error_cost = np.sum(0.5*((predict - target)**2))\n",
        "    return self.error_cost\n",
        "\n",
        "  # 오차 제곱합 미분 함수\n",
        "  def diff_error_squared_sum(self, predict, target):\n",
        "    self.predict = predict\n",
        "    self.target = target\n",
        "\n",
        "    return self.predict - self.target"
      ],
      "metadata": {
        "id": "MYtzXLVyu6_m"
      },
      "execution_count": 371,
      "outputs": []
    },
    {
      "cell_type": "code",
      "source": [
        "class MLP:\n",
        "  #가중치\n",
        "  weight = []\n",
        "\n",
        "  #편향값\n",
        "  bias = []\n",
        "    \n",
        "  # 각 층별 노드들의 입력, 활성화 함수 연산 전의 값\n",
        "  node_input = []\n",
        "\n",
        "  # 각 층별 노드들의 출력\n",
        "  node_output = []\n",
        "\n",
        "  # 타겟, 목푯값\n",
        "  target = []\n",
        "\n",
        "  # 각 층의 델타 값의 저장\n",
        "  delta = []\n",
        "\n",
        "  # 비용 함수\n",
        "  cost = cost_function()\n",
        "\n",
        "  # 활성화 함수\n",
        "  activation = activation_function()\n",
        "\n",
        "  # 가중치 업데이트 크기\n",
        "  weight_update_arr = []\n",
        "\n",
        "  #순전파 계산\n",
        "  def forward_cal(self, input, node_count):\n",
        "\n",
        "    # 가중치의 임의 생성, node_count 개수만큼의 은닉(또는 출력) 노드가 존재한다.\n",
        "    # (n,1) 개의 입력 값과 m 개의 노드 연결 (m, n) 크기의 가중치가 존재해야 한다.\n",
        "    weight = np.random.rand(node_count, input.shape[0])\n",
        "\n",
        "    #편향값의 임의 생성, 동일한 편향 값을 사용한다.\n",
        "    bias = np.random.rand(1)\n",
        "\n",
        "    # 노드 입력값의 저장 필요, 활성화 미분 함수의 값을 구하기 위해 필요\n",
        "    self.node_input.append(input)\n",
        "\n",
        "    #가중치와 노드 출력의 행렬곱연산, 편향값 덧셈\n",
        "    hidden_input = weight @ input + bias\n",
        "            \n",
        "    #노드 입력과 활성화 함수 연산을 통한 노드 출력 계산\n",
        "    # cnn 에선 0과 1 사이의 결과를 출력해야 하기 때문에 시그모이드 활성화 함수를 사용용\n",
        "    output = self.activation.equal(hidden_input)\n",
        "\n",
        "    # 노드 출력의 저장\n",
        "    self.node_output.append(output)\n",
        "\n",
        "    # 가중치 값 저장\n",
        "    self.weight.append(weight)\n",
        "\n",
        "    # 편향 값 저장\n",
        "    self.bias.append(bias)\n",
        "\n",
        "    return output\n",
        "\n",
        "  # 반복을 수행하는 함수\n",
        "  def forward_cal_iteration(self, input, target, learning_rate):\n",
        "    # 가중치의 개수만큼 layer 가 쌓여있음\n",
        "    for i in range(len(self.weight)):\n",
        "      self.node_input.append(input)\n",
        "\n",
        "      # 가중치와 노드 출력의 행렬곱 연산, 편향값 덧셈\n",
        "      hidden_input = self.weight[i] @ input + self.bias[i]\n",
        "\n",
        "      # 노드 출력 계산\n",
        "      output = self.activation.equal(hidden_input)\n",
        "\n",
        "      # 노드 출력의 저장\n",
        "      self.node_output.append(output)\n",
        "\n",
        "      input = output\n",
        "\n",
        "    self.predict = output\n",
        "\n",
        "    print(self.cost_function(target))\n",
        "\n",
        "    self.cal_delta_result(self.predict, target)\n",
        "    \n",
        "    for i in range(len(self.weight) - 1):\n",
        "      self.cal_delta_hidden()\n",
        "\n",
        "    self.weight_update(learning_rate)\n",
        "  \n",
        "  def cost_function(self, target):\n",
        "    self.target = target\n",
        "    return self.cost.errer_squared_sum(self.predict, target)\n",
        "\n",
        "  # 비용 함수에 대한 delta 값 계산\n",
        "  def cal_delta_result(self, predict, target):  \n",
        "    #delta 값 초기화\n",
        "    self.delta = []\n",
        "\n",
        "    #출력층 노드의 변화량에 대한 오차 함수의 변화량 계산\n",
        "    delta = (self.cost.diff_error_squared_sum(predict, target) * self.activation.equal_diff(self.node_output[-1]))\n",
        "\n",
        "    self.delta.append(delta)\n",
        "\n",
        "    return delta\n",
        "\n",
        "  # 은닉층에 대한 delta 값 계산, 가중치 변화량이 누적된다.\n",
        "  def cal_delta_hidden(self):\n",
        "\n",
        "    # delta 값 호출\n",
        "    delta = self.delta[-1]\n",
        "\n",
        "    # 가중치와의 연산\n",
        "    delta = self.weight[-len(self.delta)].T @ delta\n",
        "\n",
        "    # 활성화 함수 미분 함수와의 연산\n",
        "    delta = delta * self.activation.sigmoid_diff(self.node_input[-(len(self.delta))])\n",
        "\n",
        "    self.delta.append(delta)\n",
        "\n",
        "    return delta\n",
        "  \n",
        "  # 가중치 업데이트량 크기 계산\n",
        "  def weight_update(self, learning_rate):\n",
        "    # 연산의 편리함을 위해 뒤집어준다.\n",
        "    self.delta = self.delta[::-1]\n",
        "\n",
        "    for i in range(len(self.weight)):\n",
        "      self.weight_update_arr.append(self.delta[i] @ self.node_output[i].T)\n",
        "\n",
        "      self.weight[i] = self.weight[i] - (self.weight_update_arr[i].T * learning_rate)\n",
        "\n",
        "      self.bias[i] = self.bias[i] - (np.sum(self.delta[i]) * learning_rate)"
      ],
      "metadata": {
        "id": "HqjATs6-uSlI"
      },
      "execution_count": 372,
      "outputs": []
    },
    {
      "cell_type": "code",
      "source": [
        "X_train.shape"
      ],
      "metadata": {
        "colab": {
          "base_uri": "https://localhost:8080/"
        },
        "id": "efLvPV5rvX-l",
        "outputId": "c942b220-2956-4d81-9b31-6570ea47c7b1"
      },
      "execution_count": 373,
      "outputs": [
        {
          "output_type": "execute_result",
          "data": {
            "text/plain": [
              "(60, 3)"
            ]
          },
          "metadata": {},
          "execution_count": 373
        }
      ]
    },
    {
      "cell_type": "code",
      "source": [
        "mlp = MLP()"
      ],
      "metadata": {
        "id": "I6zfcFWNvJ_5"
      },
      "execution_count": 374,
      "outputs": []
    },
    {
      "cell_type": "code",
      "source": [
        "encoder = mlp.forward_cal(X_train[0], 2)\n",
        "encoder"
      ],
      "metadata": {
        "colab": {
          "base_uri": "https://localhost:8080/"
        },
        "id": "KYzK0MzfvLCt",
        "outputId": "5a852e76-5567-4bc0-c80c-6ab4e1b6da20"
      },
      "execution_count": 375,
      "outputs": [
        {
          "output_type": "execute_result",
          "data": {
            "text/plain": [
              "array([-0.90280681, -0.83461996])"
            ]
          },
          "metadata": {},
          "execution_count": 375
        }
      ]
    },
    {
      "cell_type": "code",
      "source": [
        "decoder = mlp.forward_cal(encoder, 3)\n",
        "decoder"
      ],
      "metadata": {
        "colab": {
          "base_uri": "https://localhost:8080/"
        },
        "id": "3I3ricrPvRqF",
        "outputId": "7bbb446a-b261-48f3-8e96-5c471368b243"
      },
      "execution_count": 376,
      "outputs": [
        {
          "output_type": "execute_result",
          "data": {
            "text/plain": [
              "array([-0.83932454, -0.58495808, -0.63274773])"
            ]
          },
          "metadata": {},
          "execution_count": 376
        }
      ]
    },
    {
      "cell_type": "code",
      "source": [
        "mlp.weight"
      ],
      "metadata": {
        "colab": {
          "base_uri": "https://localhost:8080/"
        },
        "id": "2-C1RTlkxRNu",
        "outputId": "b2f681c6-1f58-49a6-c131-6593f542bcf5"
      },
      "execution_count": 377,
      "outputs": [
        {
          "output_type": "execute_result",
          "data": {
            "text/plain": [
              "[array([[0.93994153, 0.80824973, 0.12321663],\n",
              "        [0.90746221, 0.67706733, 0.3194252 ]]),\n",
              " array([[0.47496392, 0.56103256],\n",
              "        [0.57182469, 0.15148925],\n",
              "        [0.36198212, 0.43573474]])]"
            ]
          },
          "metadata": {},
          "execution_count": 377
        }
      ]
    },
    {
      "cell_type": "code",
      "source": [
        "mlp.predict = decoder"
      ],
      "metadata": {
        "id": "Hzcg8Q4qxojj"
      },
      "execution_count": 378,
      "outputs": []
    },
    {
      "cell_type": "code",
      "source": [
        "mlp.cost_function(X_train[0])"
      ],
      "metadata": {
        "colab": {
          "base_uri": "https://localhost:8080/"
        },
        "id": "UOTslhpcxWYq",
        "outputId": "169efb32-e5f1-49e0-e09e-b71e06000219"
      },
      "execution_count": 379,
      "outputs": [
        {
          "output_type": "execute_result",
          "data": {
            "text/plain": [
              "0.0804105238979541"
            ]
          },
          "metadata": {},
          "execution_count": 379
        }
      ]
    },
    {
      "cell_type": "code",
      "source": [
        "mlp.cal_delta_result(mlp.predict, X_train[0])"
      ],
      "metadata": {
        "colab": {
          "base_uri": "https://localhost:8080/"
        },
        "id": "GbW0tVs82gXJ",
        "outputId": "76fb34f1-8c26-4fc9-d6cd-3d4e3d4ad289"
      },
      "execution_count": 380,
      "outputs": [
        {
          "output_type": "execute_result",
          "data": {
            "text/plain": [
              "array([ 0.20044318,  0.17528038, -0.29986725])"
            ]
          },
          "metadata": {},
          "execution_count": 380
        }
      ]
    },
    {
      "cell_type": "code",
      "source": [
        "mlp.cal_delta_hidden()"
      ],
      "metadata": {
        "colab": {
          "base_uri": "https://localhost:8080/"
        },
        "id": "bMboAruKydD4",
        "outputId": "e7f5124f-150c-469e-ae94-278a0ed5d547"
      },
      "execution_count": 381,
      "outputs": [
        {
          "output_type": "execute_result",
          "data": {
            "text/plain": [
              "array([0.01783401, 0.00176144])"
            ]
          },
          "metadata": {},
          "execution_count": 381
        }
      ]
    },
    {
      "cell_type": "code",
      "source": [
        "mlp.weight_update(0.01)"
      ],
      "metadata": {
        "id": "CopPVWlByhqK"
      },
      "execution_count": 382,
      "outputs": []
    },
    {
      "cell_type": "code",
      "source": [
        "for i in range(10): \n",
        "  mlp.forward_cal_iteration(X_train[0], X_train[0], 0.01)"
      ],
      "metadata": {
        "colab": {
          "base_uri": "https://localhost:8080/"
        },
        "id": "vQ9kMld_2KZb",
        "outputId": "1a56d41b-4345-457e-813e-1a74274c9ce1"
      },
      "execution_count": 383,
      "outputs": [
        {
          "output_type": "stream",
          "name": "stdout",
          "text": [
            "0.08020234241677547\n",
            "0.08002112187476836\n",
            "0.07986461913756647\n",
            "0.07973075442978945\n",
            "0.07961760009749111\n",
            "0.07952337012188039\n",
            "0.07944641033487779\n",
            "0.07938518929029029\n",
            "0.07933828974740413\n",
            "0.07930440072661264\n"
          ]
        }
      ]
    }
  ]
}